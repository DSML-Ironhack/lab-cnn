{
  "cells": [
    {
      "cell_type": "markdown",
      "id": "2d81c019-de9c-4662-9a89-1ae1591416a1",
      "metadata": {
        "id": "2d81c019-de9c-4662-9a89-1ae1591416a1"
      },
      "source": [
        "# CNN chalenge"
      ]
    },
    {
      "cell_type": "markdown",
      "id": "4789e379-5662-43be-9fb5-f6484c941118",
      "metadata": {
        "id": "4789e379-5662-43be-9fb5-f6484c941118"
      },
      "source": [
        "In this exercise, you will build a CNN to classify images from the Fashion MNIST dataset, train the model, evaluate its performance, and visualize predictions with a confusion matrix."
      ]
    },
    {
      "cell_type": "markdown",
      "id": "e2b4ccc2-cbf4-4828-bd5c-c04b43d0dac5",
      "metadata": {
        "id": "e2b4ccc2-cbf4-4828-bd5c-c04b43d0dac5"
      },
      "source": [
        "## Prepare the data"
      ]
    },
    {
      "cell_type": "markdown",
      "id": "6534b95f-29a3-4466-9e74-bcb3276353fe",
      "metadata": {
        "id": "6534b95f-29a3-4466-9e74-bcb3276353fe"
      },
      "source": [
        "Load the Fashion MNIST dataset using Keras and display the first few images with their labels to get a sense of the data."
      ]
    },
    {
      "cell_type": "code",
      "execution_count": 19,
      "id": "205e1d88-aea7-4c14-9e90-fa27ab2901b3",
      "metadata": {
        "id": "205e1d88-aea7-4c14-9e90-fa27ab2901b3"
      },
      "outputs": [],
      "source": [
        "from tensorflow.keras.datasets import fashion_mnist\n",
        "import matplotlib.pyplot as plt\n",
        "from sklearn.metrics import confusion_matrix\n",
        "\n",
        "(x_train, y_train), (x_test, y_test) = fashion_mnist.load_data()\n",
        "\n",
        "# Task: Normalize the data to have pixel values between 0 and 1\n",
        "# Your code here"
      ]
    },
    {
      "cell_type": "code",
      "source": [
        "x_train = x_train / 255.0\n",
        "x_test = x_test / 255.0"
      ],
      "metadata": {
        "id": "ZCJMomtlLO7E"
      },
      "id": "ZCJMomtlLO7E",
      "execution_count": 10,
      "outputs": []
    },
    {
      "cell_type": "markdown",
      "id": "5697acba-923a-4dd5-b22f-a39c5d046caf",
      "metadata": {
        "id": "5697acba-923a-4dd5-b22f-a39c5d046caf"
      },
      "source": [
        "Visualize 5 random images from the training set with their labels."
      ]
    },
    {
      "cell_type": "code",
      "execution_count": 11,
      "id": "f7bd6540-5849-4374-a2bc-ce700f7002d6",
      "metadata": {
        "colab": {
          "base_uri": "https://localhost:8080/",
          "height": 237
        },
        "id": "f7bd6540-5849-4374-a2bc-ce700f7002d6",
        "outputId": "e0b4d22c-7ace-4400-e459-7b7a304f1ccc"
      },
      "outputs": [
        {
          "output_type": "display_data",
          "data": {
            "text/plain": [
              "<Figure size 1000x200 with 5 Axes>"
            ],
            "image/png": "[encoded data removed]"
          },
          "metadata": {}
        }
      ],
      "source": [
        "plt.figure(figsize=(10, 2))\n",
        "for i in range(5):\n",
        "    plt.subplot(1, 5, i+1)\n",
        "    plt.imshow(x_train[i], cmap='gray')\n",
        "    plt.title(f\"Label: {y_train[i]}\")\n",
        "    plt.axis('off')\n",
        "plt.tight_layout()\n",
        "plt.show()\n"
      ]
    },
    {
      "cell_type": "markdown",
      "id": "372113a7-392e-4bcf-afa4-1bbab8a0af02",
      "metadata": {
        "id": "372113a7-392e-4bcf-afa4-1bbab8a0af02"
      },
      "source": [
        "Reshape the data to include a channel dimension and confirm the new shape."
      ]
    },
    {
      "cell_type": "code",
      "execution_count": 13,
      "id": "f55c275c-142f-42c4-a2b2-9f045d7dcc37",
      "metadata": {
        "colab": {
          "base_uri": "https://localhost:8080/"
        },
        "id": "f55c275c-142f-42c4-a2b2-9f045d7dcc37",
        "outputId": "13d5d5b2-ffaf-482f-ca1e-abd22c4f2fc6"
      },
      "outputs": [
        {
          "output_type": "stream",
          "name": "stdout",
          "text": [
            "x_train shape: (60000, 28, 28, 1)\n",
            "x_test shape: (10000, 28, 28, 1)\n"
          ]
        }
      ],
      "source": [
        "x_train = x_train.reshape(-1, 28, 28, 1)\n",
        "x_test = x_test.reshape(-1, 28, 28, 1)\n",
        "\n",
        "# Confirm the new shapes\n",
        "print(\"x_train shape:\", x_train.shape)\n",
        "print(\"x_test shape:\", x_test.shape)"
      ]
    },
    {
      "cell_type": "markdown",
      "id": "29d11c54-4ceb-44fe-80ea-f9925f5f7045",
      "metadata": {
        "id": "29d11c54-4ceb-44fe-80ea-f9925f5f7045"
      },
      "source": [
        "## Build the CNN model"
      ]
    },
    {
      "cell_type": "markdown",
      "id": "2ece4b51-6d58-4100-98a9-b6cf5ddb546d",
      "metadata": {
        "id": "2ece4b51-6d58-4100-98a9-b6cf5ddb546d"
      },
      "source": [
        "Create a CNN with at least two convolutional layers, followed by max pooling layers, and a dense output layer.\n",
        "\n",
        "Rememeber the `Conv2D`, `MaxPooling2D`, `Flatten`, `Dropout` and `Dense`layers."
      ]
    },
    {
      "cell_type": "code",
      "execution_count": 15,
      "id": "a4a0093a-97e2-4987-936f-7322531cc570",
      "metadata": {
        "id": "a4a0093a-97e2-4987-936f-7322531cc570"
      },
      "outputs": [],
      "source": [
        "from tensorflow.keras import Sequential\n",
        "from tensorflow.keras.layers import Conv2D, MaxPooling2D, Flatten, Dense\n",
        "\n",
        "\n",
        "model = Sequential([\n",
        "    Conv2D(32, (3, 3), activation='relu', input_shape=(28, 28, 1)),\n",
        "    MaxPooling2D(pool_size=(2, 2)),\n",
        "\n",
        "    Conv2D(64, (3, 3), activation='relu'),\n",
        "    MaxPooling2D(pool_size=(2, 2)),\n",
        "\n",
        "    Flatten(),\n",
        "    Dense(128, activation='relu'),\n",
        "\n",
        "    Dense(10, activation='softmax')\n",
        "])"
      ]
    },
    {
      "cell_type": "markdown",
      "id": "8e8bf0c0-6010-4217-a14c-fd82ec1e252a",
      "metadata": {
        "id": "8e8bf0c0-6010-4217-a14c-fd82ec1e252a"
      },
      "source": [
        "Compile your model with an appropriate optimizer, loss function, and metric."
      ]
    },
    {
      "cell_type": "code",
      "execution_count": 16,
      "id": "d4b81088-73b4-45f1-add1-303f8fd8c240",
      "metadata": {
        "id": "d4b81088-73b4-45f1-add1-303f8fd8c240"
      },
      "outputs": [],
      "source": [
        "model.compile(\n",
        "    optimizer='adam',\n",
        "    loss='sparse_categorical_crossentropy',\n",
        "    metrics=['accuracy']\n",
        ")"
      ]
    },
    {
      "cell_type": "markdown",
      "id": "da009da4-faf5-4e68-bd06-fc929417649a",
      "metadata": {
        "id": "da009da4-faf5-4e68-bd06-fc929417649a"
      },
      "source": [
        "Train your model using model.fit(), setting a validation split of 20% and training for at least 10 epochs."
      ]
    },
    {
      "cell_type": "code",
      "execution_count": 17,
      "id": "823b7856-a1da-44d6-bdba-d16efa3866a4",
      "metadata": {
        "colab": {
          "base_uri": "https://localhost:8080/"
        },
        "id": "823b7856-a1da-44d6-bdba-d16efa3866a4",
        "outputId": "aaad0e96-bb4e-45e0-cbf0-a42b0e36c95d"
      },
      "outputs": [
        {
          "output_type": "stream",
          "name": "stdout",
          "text": [
            "Epoch 1/10\n",
            "\u001b[1m1500/1500\u001b[0m \u001b[32m━━━━━━━━━━━━━━━━━━━━\u001b[0m\u001b[37m\u001b[0m \u001b[1m49s\u001b[0m 31ms/step - accuracy: 0.7713 - loss: 0.6380 - val_accuracy: 0.8700 - val_loss: 0.3644\n",
            "Epoch 2/10\n",
            "\u001b[1m1500/1500\u001b[0m \u001b[32m━━━━━━━━━━━━━━━━━━━━\u001b[0m\u001b[37m\u001b[0m \u001b[1m93s\u001b[0m 39ms/step - accuracy: 0.8842 - loss: 0.3187 - val_accuracy: 0.8957 - val_loss: 0.2935\n",
            "Epoch 3/10\n",
            "\u001b[1m1500/1500\u001b[0m \u001b[32m━━━━━━━━━━━━━━━━━━━━\u001b[0m\u001b[37m\u001b[0m \u001b[1m66s\u001b[0m 28ms/step - accuracy: 0.8985 - loss: 0.2736 - val_accuracy: 0.8965 - val_loss: 0.2837\n",
            "Epoch 4/10\n",
            "\u001b[1m1500/1500\u001b[0m \u001b[32m━━━━━━━━━━━━━━━━━━━━\u001b[0m\u001b[37m\u001b[0m \u001b[1m86s\u001b[0m 31ms/step - accuracy: 0.9129 - loss: 0.2336 - val_accuracy: 0.9078 - val_loss: 0.2520\n",
            "Epoch 5/10\n",
            "\u001b[1m1500/1500\u001b[0m \u001b[32m━━━━━━━━━━━━━━━━━━━━\u001b[0m\u001b[37m\u001b[0m \u001b[1m89s\u001b[0m 36ms/step - accuracy: 0.9215 - loss: 0.2071 - val_accuracy: 0.9057 - val_loss: 0.2593\n",
            "Epoch 6/10\n",
            "\u001b[1m1500/1500\u001b[0m \u001b[32m━━━━━━━━━━━━━━━━━━━━\u001b[0m\u001b[37m\u001b[0m \u001b[1m73s\u001b[0m 30ms/step - accuracy: 0.9312 - loss: 0.1858 - val_accuracy: 0.9098 - val_loss: 0.2603\n",
            "Epoch 7/10\n",
            "\u001b[1m1500/1500\u001b[0m \u001b[32m━━━━━━━━━━━━━━━━━━━━\u001b[0m\u001b[37m\u001b[0m \u001b[1m82s\u001b[0m 31ms/step - accuracy: 0.9411 - loss: 0.1566 - val_accuracy: 0.9086 - val_loss: 0.2479\n",
            "Epoch 8/10\n",
            "\u001b[1m1500/1500\u001b[0m \u001b[32m━━━━━━━━━━━━━━━━━━━━\u001b[0m\u001b[37m\u001b[0m \u001b[1m79s\u001b[0m 29ms/step - accuracy: 0.9495 - loss: 0.1373 - val_accuracy: 0.9087 - val_loss: 0.2830\n",
            "Epoch 9/10\n",
            "\u001b[1m1500/1500\u001b[0m \u001b[32m━━━━━━━━━━━━━━━━━━━━\u001b[0m\u001b[37m\u001b[0m \u001b[1m86s\u001b[0m 31ms/step - accuracy: 0.9541 - loss: 0.1225 - val_accuracy: 0.9112 - val_loss: 0.2681\n",
            "Epoch 10/10\n",
            "\u001b[1m1500/1500\u001b[0m \u001b[32m━━━━━━━━━━━━━━━━━━━━\u001b[0m\u001b[37m\u001b[0m \u001b[1m83s\u001b[0m 31ms/step - accuracy: 0.9586 - loss: 0.1105 - val_accuracy: 0.9104 - val_loss: 0.2893\n"
          ]
        }
      ],
      "source": [
        "history = model.fit(\n",
        "    x_train, y_train,\n",
        "    epochs=10,\n",
        "    batch_size=32,\n",
        "    validation_split=0.2\n",
        ")\n"
      ]
    },
    {
      "cell_type": "markdown",
      "id": "e8477c37-3f4b-468c-ace9-035cc2d3dd3b",
      "metadata": {
        "id": "e8477c37-3f4b-468c-ace9-035cc2d3dd3b"
      },
      "source": [
        "## Evaluate the model"
      ]
    },
    {
      "cell_type": "markdown",
      "id": "1688c614-1558-4206-b6c1-dfd31d89731d",
      "metadata": {
        "id": "1688c614-1558-4206-b6c1-dfd31d89731d"
      },
      "source": [
        "Evaluate your model on the test set and print the test accuracy."
      ]
    },
    {
      "cell_type": "code",
      "execution_count": 20,
      "id": "43c2bf10-5bb6-45cb-b587-04b01a9db6c6",
      "metadata": {
        "colab": {
          "base_uri": "https://localhost:8080/"
        },
        "id": "43c2bf10-5bb6-45cb-b587-04b01a9db6c6",
        "outputId": "bbc2cf41-a007-453f-ce28-9a5b8d52a229"
      },
      "outputs": [
        {
          "output_type": "stream",
          "name": "stdout",
          "text": [
            "\u001b[1m313/313\u001b[0m \u001b[32m━━━━━━━━━━━━━━━━━━━━\u001b[0m\u001b[37m\u001b[0m \u001b[1m3s\u001b[0m 8ms/step - accuracy: 0.8233 - loss: 95.2714\n",
            "Test accuracy: 0.8260\n"
          ]
        }
      ],
      "source": [
        "test_loss, test_accuracy = model.evaluate(x_test, y_test)\n",
        "print(f\"Test accuracy: {test_accuracy:.4f}\")"
      ]
    },
    {
      "cell_type": "markdown",
      "id": "bb6eb209-6c4f-4693-acc1-40ee551501ee",
      "metadata": {
        "id": "bb6eb209-6c4f-4693-acc1-40ee551501ee"
      },
      "source": [
        "Use your model to predict the labels for the test set. Display 5 test images with their predicted and true labels."
      ]
    },
    {
      "cell_type": "code",
      "execution_count": 21,
      "id": "cf2abe64-43b8-4a36-990d-ff5545fd8d73",
      "metadata": {
        "colab": {
          "base_uri": "https://localhost:8080/",
          "height": 211
        },
        "id": "cf2abe64-43b8-4a36-990d-ff5545fd8d73",
        "outputId": "f9554722-525b-4eb4-8be6-c0305740e813"
      },
      "outputs": [
        {
          "output_type": "stream",
          "name": "stdout",
          "text": [
            "\u001b[1m313/313\u001b[0m \u001b[32m━━━━━━━━━━━━━━━━━━━━\u001b[0m\u001b[37m\u001b[0m \u001b[1m3s\u001b[0m 8ms/step\n"
          ]
        },
        {
          "output_type": "display_data",
          "data": {
            "text/plain": [
              "<Figure size 1000x200 with 5 Axes>"
            ],
            "image/png": "[encoded data removed]"
          },
          "metadata": {}
        }
      ],
      "source": [
        "pred_probs = model.predict(x_test)\n",
        "\n",
        "pred_classes = np.argmax(pred_probs, axis=1)\n",
        "\n",
        "plt.figure(figsize=(10, 2))\n",
        "for i in range(5):\n",
        "    plt.subplot(1, 5, i+1)\n",
        "    plt.imshow(x_test[i].reshape(28, 28), cmap='gray')\n",
        "    plt.title(f\"Pred: {pred_classes[i]}\\nTrue: {y_test[i]}\")\n",
        "    plt.axis('off')\n",
        "plt.tight_layout()\n",
        "plt.show()\n"
      ]
    },
    {
      "cell_type": "markdown",
      "id": "93ec0729-32bb-40db-9f18-0cb80afa88c0",
      "metadata": {
        "id": "93ec0729-32bb-40db-9f18-0cb80afa88c0"
      },
      "source": [
        "Construct a confusion matrix to visualize how well your model performed across different classes."
      ]
    },
    {
      "cell_type": "code",
      "execution_count": 22,
      "id": "ce042e0a-bc27-4f66-aba3-31255dacddd1",
      "metadata": {
        "colab": {
          "base_uri": "https://localhost:8080/"
        },
        "id": "ce042e0a-bc27-4f66-aba3-31255dacddd1",
        "outputId": "639989c1-2585-4b2b-d845-643814e9f766"
      },
      "outputs": [
        {
          "output_type": "stream",
          "name": "stdout",
          "text": [
            "[[660   0  32   8  21   0 237   0  42   0]\n",
            " [  8 972   1   4   6   0   6   0   3   0]\n",
            " [  6   0 610   2 257   0 119   0   6   0]\n",
            " [ 41  22  15 708  67   0  99   0  48   0]\n",
            " [  1   0  13   7 943   0  27   0   9   0]\n",
            " [  2   0   2   0   0 977   1   6   7   5]\n",
            " [ 38   0  40   5 241   0 635   0  41   0]\n",
            " [ 14   0   8   0   5  48   2 860   8  55]\n",
            " [  4   0   1   0   8   1  26   0 959   1]\n",
            " [  0   0   0   0   9  18   0  27  10 936]]\n"
          ]
        }
      ],
      "source": [
        "cm = confusion_matrix(y_test, pred_classes)\n",
        "\n",
        "print(cm)\n"
      ]
    },
    {
      "cell_type": "code",
      "source": [],
      "metadata": {
        "id": "KvjnVMfxPYBA"
      },
      "id": "KvjnVMfxPYBA",
      "execution_count": null,
      "outputs": []
    }
  ],
  "metadata": {
    "kernelspec": {
      "display_name": "Python 3 (ipykernel)",
      "language": "python",
      "name": "python3"
    },
    "language_info": {
      "codemirror_mode": {
        "name": "ipython",
        "version": 3
      },
      "file_extension": ".py",
      "mimetype": "text/x-python",
      "name": "python",
      "nbconvert_exporter": "python",
      "pygments_lexer": "ipython3",
      "version": "3.12.2"
    },
    "colab": {
      "provenance": []
    }
  },
  "nbformat": 4,
  "nbformat_minor": 5
}